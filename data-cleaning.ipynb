{
 "cells": [
  {
   "cell_type": "markdown",
   "id": "7c23bf90",
   "metadata": {},
   "source": [
    "# Data Preparation"
   ]
  },
  {
   "cell_type": "code",
   "execution_count": 1,
   "id": "6457d1d7",
   "metadata": {},
   "outputs": [],
   "source": [
    "import re\n",
    "from os import listdir\n",
    "\n",
    "import nltk\n",
    "from nltk.corpus import stopwords\n",
    "from nltk.tokenize import RegexpTokenizer\n",
    "# nltk.download('stopwords')\n",
    "# nltk.download('punkt')"
   ]
  },
  {
   "cell_type": "code",
   "execution_count": 2,
   "id": "990d57eb",
   "metadata": {},
   "outputs": [
    {
     "data": {
      "text/plain": [
       "'Rock Metal from northwestern Spain. The band is still unsigned and  with three works on their backs. Their last release it\\'s an acoustic experiment with three electric bonus tracks and it will be release on June 2006.\\n\\nCheck it out\\nhttp://www.orfos.tk\\nhttp://www.myspace.com/orfos <a href=\"https://www.last.fm/music/Orfos\">Read more on Last.fm</a>. User-contributed text is available under the Creative Commons By-SA License; additional terms may apply.'"
      ]
     },
     "execution_count": 2,
     "metadata": {},
     "output_type": "execute_result"
    }
   ],
   "source": [
    "def load_bios(path: str) -> list:\n",
    "    bios = list()\n",
    "    for f in listdir(path):\n",
    "         if f.endswith('-bio.txt'):\n",
    "                with open(f'{path}/{f}', 'r') as txt:\n",
    "                    bio = txt.read()\n",
    "                bios.append(bio)\n",
    "    return bios[:10]\n",
    "\n",
    "\n",
    "bios = load_bios('../opendata-music-artists-with-bios/bios/')\n",
    "bios[0]"
   ]
  },
  {
   "cell_type": "code",
   "execution_count": 3,
   "id": "2b4a30f1",
   "metadata": {},
   "outputs": [
    {
     "name": "stdout",
     "output_type": "stream",
     "text": [
      "0/10 filtered out\n"
     ]
    }
   ],
   "source": [
    "def is_bio(text: str) -> bool:\n",
    "    if \"at least\" in text[:200]:\n",
    "        return False\n",
    "    elif text.lower().startswith('there are'):\n",
    "        return False\n",
    "    elif text.lower().startswith('there is'):\n",
    "        return False\n",
    "    return True\n",
    "\n",
    "\n",
    "real_bios = [b for b in bios if is_bio(b)]\n",
    "false_bios = list(set(bios).difference(set(real_bios)))\n",
    "print(f\"{len(false_bios)}/{len(bios)} filtered out\")"
   ]
  },
  {
   "cell_type": "code",
   "execution_count": 4,
   "id": "08abea27",
   "metadata": {},
   "outputs": [
    {
     "data": {
      "text/plain": [
       "[]"
      ]
     },
     "execution_count": 4,
     "metadata": {},
     "output_type": "execute_result"
    }
   ],
   "source": [
    "false_bios"
   ]
  },
  {
   "cell_type": "code",
   "execution_count": 5,
   "id": "b73c5fcd",
   "metadata": {},
   "outputs": [
    {
     "data": {
      "text/plain": [
       "\"Rock Metal from northwestern Spain. The band is still unsigned and  with three works on their backs. Their last release it's an acoustic experiment with three electric bonus tracks and it will be release on June 2006.\\n\\nCheck it out\\nhttp://www.orfos.tk\\nhttp://www.myspace.com/orfos Read more on Last.fm. User-contributed text is available under the Creative Commons By-SA License; additional terms may apply.\""
      ]
     },
     "execution_count": 5,
     "metadata": {},
     "output_type": "execute_result"
    }
   ],
   "source": [
    "def remove_html_tags(text: str) -> str:\n",
    "    cleaner = re.compile('<.*?>')\n",
    "    return re.sub(cleaner, '', text)\n",
    "\n",
    "bios_wo_html = [remove_html_tags(b) for b in real_bios]\n",
    "bios_wo_html[0]"
   ]
  },
  {
   "cell_type": "code",
   "execution_count": 6,
   "id": "1adc219f",
   "metadata": {},
   "outputs": [
    {
     "data": {
      "text/plain": [
       "\"Rock Metal from northwestern Spain. The band is still unsigned and  with three works on their backs. Their last release it's an acoustic experiment with three electric bonus tracks and it will be release on June 2006.\\n\\nCheck it out\\nhttp://www.orfos.tk\\nhttp://www.myspace.com/orfos \""
      ]
     },
     "execution_count": 6,
     "metadata": {},
     "output_type": "execute_result"
    }
   ],
   "source": [
    "bios_wo_lastfm_text = [b.split('Read more on Last.fm')[0] for b in bios_wo_html]\n",
    "bios_wo_lastfm_text[0]"
   ]
  },
  {
   "cell_type": "code",
   "execution_count": 7,
   "id": "301bc2b4",
   "metadata": {},
   "outputs": [
    {
     "data": {
      "text/plain": [
       "\"Rock Metal from northwestern Spain. The band is still unsigned and  with three works on their backs. Their last release it's an acoustic experiment with three electric bonus tracks and it will be release on June 2006.  Check it out http://www.orfos.tk http://www.myspace.com/orfos \""
      ]
     },
     "execution_count": 7,
     "metadata": {},
     "output_type": "execute_result"
    }
   ],
   "source": [
    "def remove_control_chars(text: str) -> str:\n",
    "    text = text.replace('\\n',' ')\n",
    "    text = text.replace('\\t',' ')\n",
    "    text = text.replace('\\r',' ')\n",
    "    return text\n",
    "\n",
    "\n",
    "bios_wo_control_chars = [remove_control_chars(b) for b in bios_wo_lastfm_text]\n",
    "bios_wo_control_chars[0]"
   ]
  },
  {
   "cell_type": "code",
   "execution_count": 8,
   "id": "b7d0c88f",
   "metadata": {},
   "outputs": [
    {
     "data": {
      "text/plain": [
       "\"Rock Metal from northwestern Spain. The band is still unsigned and  with three works on their backs. Their last release it's an acoustic experiment with three electric bonus tracks and it will be release on June 2006.  Check it out   \""
      ]
     },
     "execution_count": 8,
     "metadata": {},
     "output_type": "execute_result"
    }
   ],
   "source": [
    "def remove_urls(text: str) -> str:\n",
    "    return re.sub(r'http\\S+', '', text)\n",
    "\n",
    "bios_wo_urls = [remove_urls(b) for b in bios_wo_control_chars]\n",
    "bios_wo_urls[0]"
   ]
  },
  {
   "cell_type": "code",
   "execution_count": 9,
   "id": "272b7092",
   "metadata": {},
   "outputs": [],
   "source": [
    "import spacy"
   ]
  },
  {
   "cell_type": "code",
   "execution_count": 10,
   "id": "ac6fe775",
   "metadata": {},
   "outputs": [
    {
     "name": "stdout",
     "output_type": "stream",
     "text": [
      "Collecting en-core-web-sm==3.4.1\n",
      "  Downloading https://github.com/explosion/spacy-models/releases/download/en_core_web_sm-3.4.1/en_core_web_sm-3.4.1-py3-none-any.whl (12.8 MB)\n",
      "\u001b[2K     \u001b[90m━━━━━━━━━━━━━━━━━━━━━━━━━━━━━━━━━━━━━━━━\u001b[0m \u001b[32m12.8/12.8 MB\u001b[0m \u001b[31m6.4 MB/s\u001b[0m eta \u001b[36m0:00:00\u001b[0m00:01\u001b[0m00:01\u001b[0m\n",
      "\u001b[?25hRequirement already satisfied: spacy<3.5.0,>=3.4.0 in ./venv/lib/python3.10/site-packages (from en-core-web-sm==3.4.1) (3.4.2)\n",
      "Requirement already satisfied: wasabi<1.1.0,>=0.9.1 in ./venv/lib/python3.10/site-packages (from spacy<3.5.0,>=3.4.0->en-core-web-sm==3.4.1) (0.10.1)\n",
      "Requirement already satisfied: typer<0.5.0,>=0.3.0 in ./venv/lib/python3.10/site-packages (from spacy<3.5.0,>=3.4.0->en-core-web-sm==3.4.1) (0.4.2)\n",
      "Requirement already satisfied: catalogue<2.1.0,>=2.0.6 in ./venv/lib/python3.10/site-packages (from spacy<3.5.0,>=3.4.0->en-core-web-sm==3.4.1) (2.0.8)\n",
      "Requirement already satisfied: requests<3.0.0,>=2.13.0 in ./venv/lib/python3.10/site-packages (from spacy<3.5.0,>=3.4.0->en-core-web-sm==3.4.1) (2.28.1)\n",
      "Requirement already satisfied: langcodes<4.0.0,>=3.2.0 in ./venv/lib/python3.10/site-packages (from spacy<3.5.0,>=3.4.0->en-core-web-sm==3.4.1) (3.3.0)\n",
      "Requirement already satisfied: setuptools in ./venv/lib/python3.10/site-packages (from spacy<3.5.0,>=3.4.0->en-core-web-sm==3.4.1) (65.3.0)\n",
      "Requirement already satisfied: srsly<3.0.0,>=2.4.3 in ./venv/lib/python3.10/site-packages (from spacy<3.5.0,>=3.4.0->en-core-web-sm==3.4.1) (2.4.5)\n",
      "Requirement already satisfied: tqdm<5.0.0,>=4.38.0 in ./venv/lib/python3.10/site-packages (from spacy<3.5.0,>=3.4.0->en-core-web-sm==3.4.1) (4.64.1)\n",
      "Requirement already satisfied: pydantic!=1.8,!=1.8.1,<1.11.0,>=1.7.4 in ./venv/lib/python3.10/site-packages (from spacy<3.5.0,>=3.4.0->en-core-web-sm==3.4.1) (1.10.2)\n",
      "Requirement already satisfied: spacy-loggers<2.0.0,>=1.0.0 in ./venv/lib/python3.10/site-packages (from spacy<3.5.0,>=3.4.0->en-core-web-sm==3.4.1) (1.0.3)\n",
      "Requirement already satisfied: pathy>=0.3.5 in ./venv/lib/python3.10/site-packages (from spacy<3.5.0,>=3.4.0->en-core-web-sm==3.4.1) (0.6.2)\n",
      "Requirement already satisfied: spacy-legacy<3.1.0,>=3.0.10 in ./venv/lib/python3.10/site-packages (from spacy<3.5.0,>=3.4.0->en-core-web-sm==3.4.1) (3.0.10)\n",
      "Requirement already satisfied: murmurhash<1.1.0,>=0.28.0 in ./venv/lib/python3.10/site-packages (from spacy<3.5.0,>=3.4.0->en-core-web-sm==3.4.1) (1.0.9)\n",
      "Requirement already satisfied: cymem<2.1.0,>=2.0.2 in ./venv/lib/python3.10/site-packages (from spacy<3.5.0,>=3.4.0->en-core-web-sm==3.4.1) (2.0.7)\n",
      "Requirement already satisfied: packaging>=20.0 in ./venv/lib/python3.10/site-packages (from spacy<3.5.0,>=3.4.0->en-core-web-sm==3.4.1) (21.3)\n",
      "Requirement already satisfied: thinc<8.2.0,>=8.1.0 in ./venv/lib/python3.10/site-packages (from spacy<3.5.0,>=3.4.0->en-core-web-sm==3.4.1) (8.1.5)\n",
      "Requirement already satisfied: preshed<3.1.0,>=3.0.2 in ./venv/lib/python3.10/site-packages (from spacy<3.5.0,>=3.4.0->en-core-web-sm==3.4.1) (3.0.8)\n",
      "Requirement already satisfied: jinja2 in ./venv/lib/python3.10/site-packages (from spacy<3.5.0,>=3.4.0->en-core-web-sm==3.4.1) (3.1.2)\n",
      "Requirement already satisfied: numpy>=1.15.0 in ./venv/lib/python3.10/site-packages (from spacy<3.5.0,>=3.4.0->en-core-web-sm==3.4.1) (1.23.4)\n",
      "Requirement already satisfied: pyparsing!=3.0.5,>=2.0.2 in ./venv/lib/python3.10/site-packages (from packaging>=20.0->spacy<3.5.0,>=3.4.0->en-core-web-sm==3.4.1) (3.0.9)\n",
      "Requirement already satisfied: smart-open<6.0.0,>=5.2.1 in ./venv/lib/python3.10/site-packages (from pathy>=0.3.5->spacy<3.5.0,>=3.4.0->en-core-web-sm==3.4.1) (5.2.1)\n",
      "Requirement already satisfied: typing-extensions>=4.1.0 in ./venv/lib/python3.10/site-packages (from pydantic!=1.8,!=1.8.1,<1.11.0,>=1.7.4->spacy<3.5.0,>=3.4.0->en-core-web-sm==3.4.1) (4.4.0)\n",
      "Requirement already satisfied: idna<4,>=2.5 in ./venv/lib/python3.10/site-packages (from requests<3.0.0,>=2.13.0->spacy<3.5.0,>=3.4.0->en-core-web-sm==3.4.1) (3.4)\n",
      "Requirement already satisfied: certifi>=2017.4.17 in ./venv/lib/python3.10/site-packages (from requests<3.0.0,>=2.13.0->spacy<3.5.0,>=3.4.0->en-core-web-sm==3.4.1) (2022.9.24)\n",
      "Requirement already satisfied: urllib3<1.27,>=1.21.1 in ./venv/lib/python3.10/site-packages (from requests<3.0.0,>=2.13.0->spacy<3.5.0,>=3.4.0->en-core-web-sm==3.4.1) (1.26.12)\n",
      "Requirement already satisfied: charset-normalizer<3,>=2 in ./venv/lib/python3.10/site-packages (from requests<3.0.0,>=2.13.0->spacy<3.5.0,>=3.4.0->en-core-web-sm==3.4.1) (2.1.1)\n",
      "Requirement already satisfied: confection<1.0.0,>=0.0.1 in ./venv/lib/python3.10/site-packages (from thinc<8.2.0,>=8.1.0->spacy<3.5.0,>=3.4.0->en-core-web-sm==3.4.1) (0.0.3)\n",
      "Requirement already satisfied: blis<0.8.0,>=0.7.8 in ./venv/lib/python3.10/site-packages (from thinc<8.2.0,>=8.1.0->spacy<3.5.0,>=3.4.0->en-core-web-sm==3.4.1) (0.7.9)\n",
      "Requirement already satisfied: click<9.0.0,>=7.1.1 in ./venv/lib/python3.10/site-packages (from typer<0.5.0,>=0.3.0->spacy<3.5.0,>=3.4.0->en-core-web-sm==3.4.1) (8.1.3)\n",
      "Requirement already satisfied: MarkupSafe>=2.0 in ./venv/lib/python3.10/site-packages (from jinja2->spacy<3.5.0,>=3.4.0->en-core-web-sm==3.4.1) (2.1.1)\n",
      "\n",
      "\u001b[1m[\u001b[0m\u001b[34;49mnotice\u001b[0m\u001b[1;39;49m]\u001b[0m\u001b[39;49m A new release of pip available: \u001b[0m\u001b[31;49m22.2.2\u001b[0m\u001b[39;49m -> \u001b[0m\u001b[32;49m22.3\u001b[0m\n",
      "\u001b[1m[\u001b[0m\u001b[34;49mnotice\u001b[0m\u001b[1;39;49m]\u001b[0m\u001b[39;49m To update, run: \u001b[0m\u001b[32;49mpip install --upgrade pip\u001b[0m\n",
      "\u001b[38;5;2m✔ Download and installation successful\u001b[0m\n",
      "You can now load the package via spacy.load('en_core_web_sm')\n"
     ]
    }
   ],
   "source": [
    "!spacy download en_core_web_sm"
   ]
  },
  {
   "cell_type": "code",
   "execution_count": 11,
   "id": "7e012bbc",
   "metadata": {},
   "outputs": [
    {
     "name": "stderr",
     "output_type": "stream",
     "text": [
      "/Users/michael/workspace/topic-modelling-workshop/venv/lib/python3.10/site-packages/spacy/language.py:1895: UserWarning: [W123] Argument disable with value ['parser', 'ner'] is used instead of ['senter'] as specified in the config. Be aware that this might affect other components in your pipeline.\n",
      "  warnings.warn(\n"
     ]
    },
    {
     "data": {
      "text/plain": [
       "'northwestern band still unsigned work back last release acoustic experiment electric bonus track release check'"
      ]
     },
     "execution_count": 11,
     "metadata": {},
     "output_type": "execute_result"
    }
   ],
   "source": [
    "def lemmatize(text: str, allowed_postags=['NOUN', 'ADJ', 'VERB', 'ADV']) -> str:\n",
    "    nlp = spacy.load('en_core_web_sm', disable=['parser', 'ner'])\n",
    "    doc = nlp(text)\n",
    "    new_text = []\n",
    "    for token in doc:\n",
    "        if token.pos_ in allowed_postags:\n",
    "            new_text.append(token.lemma_)\n",
    "    return ' '.join(new_text)\n",
    "\n",
    "\n",
    "bios_lemmatized = [lemmatize(b) for b in bios_wo_urls]\n",
    "bios_lemmatized[0]"
   ]
  },
  {
   "cell_type": "code",
   "execution_count": 16,
   "id": "9a9e818d",
   "metadata": {},
   "outputs": [
    {
     "data": {
      "text/plain": [
       "['northwestern',\n",
       " 'band',\n",
       " 'still',\n",
       " 'unsigned',\n",
       " 'work',\n",
       " 'back',\n",
       " 'last',\n",
       " 'release',\n",
       " 'acoustic',\n",
       " 'experiment',\n",
       " 'electric',\n",
       " 'bonus',\n",
       " 'track',\n",
       " 'release',\n",
       " 'check']"
      ]
     },
     "execution_count": 16,
     "metadata": {},
     "output_type": "execute_result"
    }
   ],
   "source": [
    "import gensim\n",
    "\n",
    "\n",
    "def gen_words(text: str) -> list:\n",
    "    return gensim.utils.simple_preprocess(text, deacc=True)\n",
    "\n",
    "\n",
    "data_words = [gen_words(b) for b in bios_lemmatized]\n",
    "data_words[0]"
   ]
  },
  {
   "cell_type": "markdown",
   "id": "73148f6f",
   "metadata": {},
   "source": [
    "# Visualizatoin"
   ]
  },
  {
   "cell_type": "code",
   "execution_count": 13,
   "id": "487f00ac",
   "metadata": {},
   "outputs": [
    {
     "name": "stderr",
     "output_type": "stream",
     "text": [
      "/Users/michael/workspace/topic-modelling-workshop/venv/lib/python3.10/site-packages/past/builtins/misc.py:45: DeprecationWarning: the imp module is deprecated in favour of importlib and slated for removal in Python 3.12; see the module's documentation for alternative uses\n",
      "  from imp import reload\n"
     ]
    }
   ],
   "source": [
    "import pyLDAvis\n",
    "import pyLDAvis.gensim_models"
   ]
  },
  {
   "cell_type": "code",
   "execution_count": null,
   "id": "94be0301",
   "metadata": {},
   "outputs": [],
   "source": []
  }
 ],
 "metadata": {
  "kernelspec": {
   "display_name": "Python 3 (ipykernel)",
   "language": "python",
   "name": "python3"
  },
  "language_info": {
   "codemirror_mode": {
    "name": "ipython",
    "version": 3
   },
   "file_extension": ".py",
   "mimetype": "text/x-python",
   "name": "python",
   "nbconvert_exporter": "python",
   "pygments_lexer": "ipython3",
   "version": "3.10.8"
  }
 },
 "nbformat": 4,
 "nbformat_minor": 5
}
