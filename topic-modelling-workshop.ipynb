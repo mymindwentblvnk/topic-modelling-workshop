{
 "cells": [
  {
   "cell_type": "markdown",
   "id": "5b8609c1",
   "metadata": {
    "pycharm": {
     "name": "#%% md\n"
    }
   },
   "source": [
    "# Topic Modelling"
   ]
  },
  {
   "cell_type": "markdown",
   "id": "d9a36dc2",
   "metadata": {
    "pycharm": {
     "name": "#%% md\n"
    }
   },
   "source": [
    "From someone who does not understand Machine Learning."
   ]
  },
  {
   "cell_type": "code",
   "execution_count": null,
   "id": "384da00e",
   "metadata": {
    "pycharm": {
     "name": "#%%\n"
    }
   },
   "outputs": [],
   "source": [
    "import gensim\n",
    "from gensim.corpora import Dictionary\n",
    "from gensim.models import TfidfModel, LsiModel\n",
    "from gensim.similarities import MatrixSimilarity\n",
    "\n",
    "import nltk\n",
    "from nltk.tokenize import sent_tokenize, word_tokenize\n",
    "from nltk.corpus import stopwords\n",
    "from nltk.tokenize import RegexpTokenizer"
   ]
  },
  {
   "cell_type": "code",
   "execution_count": null,
   "id": "e1c7b15e",
   "metadata": {
    "pycharm": {
     "name": "#%%\n"
    }
   },
   "outputs": [],
   "source": [
    "# nltk.download('stopwords')\n",
    "# nltk.download('punkt')"
   ]
  },
  {
   "cell_type": "markdown",
   "id": "4ab23745",
   "metadata": {
    "pycharm": {
     "name": "#%% md\n"
    }
   },
   "source": [
    "### Utils"
   ]
  },
  {
   "cell_type": "markdown",
   "id": "f4ffd4d2",
   "metadata": {
    "pycharm": {
     "name": "#%% md\n"
    }
   },
   "source": [
    "#### Serialize"
   ]
  },
  {
   "cell_type": "code",
   "execution_count": null,
   "id": "230bdb25",
   "metadata": {
    "pycharm": {
     "name": "#%%\n"
    }
   },
   "outputs": [],
   "source": [
    "import pickle\n",
    "\n",
    "\n",
    "def pickle_save(obj, path):\n",
    "     with open(path, 'wb') as out:\n",
    "        pickle.dump(obj, out, protocol=pickle.HIGHEST_PROTOCOL)\n",
    "            \n",
    "\n",
    "def pickle_load(path):\n",
    "     with open(path, 'rb') as obj:\n",
    "        return pickle.load(obj)"
   ]
  },
  {
   "cell_type": "markdown",
   "id": "250e38b5",
   "metadata": {
    "pycharm": {
     "name": "#%% md\n"
    }
   },
   "source": [
    "#### Text Processing"
   ]
  },
  {
   "cell_type": "code",
   "execution_count": null,
   "outputs": [],
   "source": [
    "import re\n",
    "\n",
    "\n",
    "def _remove_html_tags(text):\n",
    "    cleaner = re.compile('<.*?>')\n",
    "    return re.sub(cleaner, '', text)\n",
    "\n",
    "\n",
    "def _remove_control_chars(text):\n",
    "    text = text.replace('\\n','')\n",
    "    text = text.replace('\\t','')\n",
    "    return text\n",
    "\n",
    "\n",
    "def _remove_stop_words(text):\n",
    "    stop_words = list()\n",
    "    stop_words.extend(stopwords.words('english'))\n",
    "\n",
    "    tokenizer = RegexpTokenizer(r'\\w+')\n",
    "    words = tokenizer.tokenize(text)\n",
    "    result = []\n",
    "    for word in words:\n",
    "        if word not in stop_words:\n",
    "            result.append(word)\n",
    "    return list(result)    \n",
    "\n",
    "\n",
    "def clean_text(text):\n",
    "    text = _remove_html_tags(text)\n",
    "    text = _remove_control_chars(text)\n",
    "    text = _remove_stop_words(text)\n",
    "    return text"
   ],
   "metadata": {
    "collapsed": false,
    "pycharm": {
     "name": "#%%\n"
    }
   }
  },
  {
   "cell_type": "markdown",
   "source": [
    "#### Gather Data"
   ],
   "metadata": {
    "collapsed": false,
    "pycharm": {
     "name": "#%% md\n"
    }
   }
  },
  {
   "cell_type": "code",
   "execution_count": null,
   "outputs": [],
   "source": [
    "# tbd."
   ],
   "metadata": {
    "collapsed": false,
    "pycharm": {
     "name": "#%%\n"
    }
   }
  },
  {
   "cell_type": "markdown",
   "source": [
    "# Buckle Up!"
   ],
   "metadata": {
    "collapsed": false,
    "pycharm": {
     "name": "#%% md\n"
    }
   }
  },
  {
   "cell_type": "code",
   "execution_count": null,
   "outputs": [],
   "source": [
    "FROM_SCRATCH = True\n",
    "ARTIST_NAMES_PATH = 'data/artists-bio.csv'\n",
    "MODEL_PATH = 'model.pickle'\n",
    "MAPPING_PATH = 'mapping.pickle'"
   ],
   "metadata": {
    "collapsed": false,
    "pycharm": {
     "name": "#%%\n"
    }
   }
  },
  {
   "cell_type": "code",
   "execution_count": null,
   "outputs": [],
   "source": [
    "!tree -I venv -I data/raw/bios # With ! you can run bash commands in Jupyter"
   ],
   "metadata": {
    "collapsed": false,
    "pycharm": {
     "name": "#%%\n"
    }
   }
  },
  {
   "cell_type": "markdown",
   "source": [
    "## Data Cleansing and Preparation\n",
    "\n",
    "We create so called documents that consist of the artist name and their biography in tokenized format.\n",
    "\n",
    "The mapping looks something like this\n",
    "\n",
    "```\n",
    "{\n",
    "    1: {'artist_name': '50 Cent', 'bio': ['a', 'text', 'about', '50', 'Cent'},\n",
    "    2: {'artist_name': 'Eminem', 'bio': ['a', 'text', 'about', 'Eminem'},\n",
    "    3: {'artist_name': 'Metallica', 'bio': ['a', 'text', 'about', 'Metallica'},\n",
    "    ...\n",
    "}\n",
    "```"
   ],
   "metadata": {
    "collapsed": false,
    "pycharm": {
     "name": "#%% md\n"
    }
   }
  },
  {
   "cell_type": "markdown",
   "source": [
    "### Input Data"
   ],
   "metadata": {
    "collapsed": false,
    "pycharm": {
     "name": "#%% md\n"
    }
   }
  },
  {
   "cell_type": "code",
   "execution_count": null,
   "outputs": [],
   "source": [
    "# Load CSV\n",
    "# Clean bios"
   ],
   "metadata": {
    "collapsed": false,
    "pycharm": {
     "name": "#%%\n"
    }
   }
  },
  {
   "cell_type": "code",
   "execution_count": null,
   "id": "7f150364",
   "metadata": {
    "pycharm": {
     "name": "#%%\n"
    }
   },
   "outputs": [],
   "source": [
    "print(mapping)"
   ]
  },
  {
   "cell_type": "markdown",
   "id": "3bd849bf",
   "metadata": {
    "pycharm": {
     "name": "#%% md\n"
    }
   },
   "source": [
    "## Create model"
   ]
  },
  {
   "cell_type": "markdown",
   "id": "55eac257",
   "metadata": {
    "pycharm": {
     "name": "#%% md\n"
    }
   },
   "source": [
    "#### <Machine Learning Magic World 🧙‍♂️>\n",
    "\n",
    "The following code is not there to be understood. Thanks. `¯\\_(ツ)_/¯`"
   ]
  },
  {
   "cell_type": "code",
   "execution_count": null,
   "id": "0d1e1032",
   "metadata": {
    "pycharm": {
     "name": "#%%\n"
    }
   },
   "outputs": [],
   "source": [
    "from dataclasses import dataclass\n",
    "\n",
    "\n",
    "@dataclass\n",
    "class MyModel:\n",
    "    dictionary: Dictionary\n",
    "    tfidf_model: TfidfModel\n",
    "    lsi_model: LsiModel\n",
    "    index: MatrixSimilarity\n",
    "    \n",
    "\n",
    "if FROM_SCRATCH:\n",
    "    dataset = [mapping[i]['bio'] for i in mapping]\n",
    "    \n",
    "    dct = Dictionary(dataset)\n",
    "\n",
    "    corpus = [dct.doc2bow(line) for line in dataset]\n",
    "    tfidf_model = TfidfModel(corpus)\n",
    "    tfidf_corpus = tfidf_model[corpus]\n",
    "\n",
    "    lsi_model = LsiModel(tfidf_corpus, id2word=dct, num_topics=50, power_iters=4)\n",
    "\n",
    "    index = MatrixSimilarity(lsi_model[tfidf_corpus])\n",
    "    my_model = MyModel(dictionary=dct,\n",
    "                       tfidf_model=tfidf_model,\n",
    "                       lsi_model=lsi_model,\n",
    "                       index=index)\n",
    "    pickle_save(my_model, MODEL_PATH)\n",
    "else:\n",
    "    my_model = pickle_load(MODEL_PATH)\n",
    "\n",
    "\n"
   ]
  },
  {
   "cell_type": "markdown",
   "id": "efd508c3",
   "metadata": {
    "pycharm": {
     "name": "#%% md\n"
    }
   },
   "source": [
    "#### </Machine Learning Magic World 🧙‍♂️>"
   ]
  },
  {
   "cell_type": "markdown",
   "id": "3a4dc9a3",
   "metadata": {
    "pycharm": {
     "name": "#%% md\n"
    }
   },
   "source": [
    "## Query the Model"
   ]
  },
  {
   "cell_type": "markdown",
   "id": "98a2cbaf",
   "metadata": {
    "pycharm": {
     "name": "#%% md\n"
    }
   },
   "source": [
    "Create the query entity data as we did when creating the model"
   ]
  },
  {
   "cell_type": "code",
   "execution_count": null,
   "id": "8dc349a0",
   "metadata": {
    "pycharm": {
     "name": "#%%\n"
    }
   },
   "outputs": [],
   "source": [
    "query_bio = get_artist_bio('Obie Trice')"
   ]
  },
  {
   "cell_type": "markdown",
   "id": "ada7fd06",
   "metadata": {
    "pycharm": {
     "name": "#%% md\n"
    }
   },
   "source": [
    "#### <Machine Learning Magic World 🧙‍♂️>\n",
    "\n",
    "The following code is not there to be understood. Thanks. `¯\\_(ツ)_/¯`"
   ]
  },
  {
   "cell_type": "code",
   "execution_count": null,
   "id": "2786a597",
   "metadata": {
    "pycharm": {
     "name": "#%%\n"
    }
   },
   "outputs": [],
   "source": [
    "vec_bow = my_model.dictionary.doc2bow(query_bio)\n",
    "vec_lsi = my_model.lsi_model[my_model.tfidf_model[vec_bow]]\n",
    "similar_entities = my_model.index[vec_lsi]"
   ]
  },
  {
   "cell_type": "markdown",
   "id": "794fbd5e",
   "metadata": {
    "pycharm": {
     "name": "#%% md\n"
    }
   },
   "source": [
    "#### </Machine Learning Magic World 🧙‍♂️>"
   ]
  },
  {
   "cell_type": "markdown",
   "id": "d3241de0",
   "metadata": {
    "pycharm": {
     "name": "#%% md\n"
    }
   },
   "source": [
    "## The Result"
   ]
  },
  {
   "cell_type": "markdown",
   "id": "468e864b",
   "metadata": {
    "pycharm": {
     "name": "#%% md\n"
    }
   },
   "source": [
    "We got all the doc numbers (see `mapping`) and how similar they are to the queried artist (0.0 to 1.0). "
   ]
  },
  {
   "cell_type": "code",
   "execution_count": null,
   "id": "12a26bc1",
   "metadata": {
    "pycharm": {
     "name": "#%%\n"
    }
   },
   "outputs": [],
   "source": [
    "doc_to_similarity = dict(enumerate(similar_entities))\n",
    "\n",
    "print(doc_to_similarity)"
   ]
  },
  {
   "cell_type": "markdown",
   "id": "526c24c4",
   "metadata": {
    "pycharm": {
     "name": "#%% md\n"
    }
   },
   "source": [
    "Now let's find the top 10 similar artists and bands."
   ]
  },
  {
   "cell_type": "code",
   "execution_count": null,
   "id": "863b2f37",
   "metadata": {
    "pycharm": {
     "name": "#%%\n"
    }
   },
   "outputs": [],
   "source": [
    "top_n_docs = sorted(doc_to_similarity, key=doc_to_similarity.get, reverse=True)[:10]\n",
    "\n",
    "result = []\n",
    "for doc_number in top_n_docs:\n",
    "    result.append({\n",
    "        'similarity': similar_entities[doc_number],\n",
    "        'artist_name': mapping[doc_number]['artist_name']\n",
    "    })\n",
    "    \n",
    "print(result)"
   ]
  },
  {
   "cell_type": "markdown",
   "id": "760808b2",
   "metadata": {
    "pycharm": {
     "name": "#%% md\n"
    }
   },
   "source": [
    "## Demo"
   ]
  },
  {
   "cell_type": "markdown",
   "id": "f777aa33",
   "metadata": {
    "pycharm": {
     "name": "#%% md\n"
    }
   },
   "source": [
    "### 🤖 `I am a semi professional ML implementation AMA`"
   ]
  },
  {
   "cell_type": "code",
   "execution_count": null,
   "id": "9e3f08a9",
   "metadata": {
    "pycharm": {
     "name": "#%%\n"
    }
   },
   "outputs": [],
   "source": [
    "from pprint import pprint\n",
    "\n",
    "\n",
    "def find_similar_artists(artist_name):\n",
    "    # <Machine Learning Magic World 🧙‍♂️>\n",
    "    query_bio = get_artist_bio(artist_name)\n",
    "    vec_bow = my_model.dictionary.doc2bow(query_bio)\n",
    "    vec_lsi = my_model.lsi_model[my_model.tfidf_model[vec_bow]]\n",
    "    similar_entities = my_model.index[vec_lsi]\n",
    "    # </Machine Learning Magic World 🧙‍♂️>\n",
    "    doc_to_similarity = dict(enumerate(similar_entities))\n",
    "    top_n_docs = sorted(doc_to_similarity, key=doc_to_similarity.get, reverse=True)[:10]\n",
    "\n",
    "    result = []\n",
    "    for doc_number in top_n_docs:\n",
    "        result.append({\n",
    "            'similarity': similar_entities[doc_number],\n",
    "            'artist_name': mapping[doc_number]['artist_name']\n",
    "        })\n",
    "    sorted(result, key=lambda d: d['similarity'])\n",
    "    pprint(result)"
   ]
  },
  {
   "cell_type": "code",
   "execution_count": null,
   "id": "93844d42",
   "metadata": {
    "pycharm": {
     "name": "#%%\n"
    }
   },
   "outputs": [],
   "source": [
    "find_similar_artists(\"Obie Trice\")"
   ]
  },
  {
   "cell_type": "markdown",
   "id": "d13db45c",
   "metadata": {
    "pycharm": {
     "name": "#%% md\n"
    }
   },
   "source": [
    "## Open Questions"
   ]
  },
  {
   "cell_type": "markdown",
   "id": "47b03572",
   "metadata": {
    "pycharm": {
     "name": "#%% md\n"
    }
   },
   "source": [
    "* How to update model without reading all data again?\n",
    "* "
   ]
  }
 ],
 "metadata": {
  "kernelspec": {
   "display_name": "Python 3 (ipykernel)",
   "language": "python",
   "name": "python3"
  },
  "language_info": {
   "codemirror_mode": {
    "name": "ipython",
    "version": 3
   },
   "file_extension": ".py",
   "mimetype": "text/x-python",
   "name": "python",
   "nbconvert_exporter": "python",
   "pygments_lexer": "ipython3",
   "version": "3.10.8"
  }
 },
 "nbformat": 4,
 "nbformat_minor": 5
}